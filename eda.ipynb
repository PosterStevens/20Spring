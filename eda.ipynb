{
 "nbformat": 4,
 "nbformat_minor": 2,
 "metadata": {
  "language_info": {
   "name": "python",
   "codemirror_mode": {
    "name": "ipython",
    "version": 3
   },
   "version": "3.7.4-final"
  },
  "orig_nbformat": 2,
  "file_extension": ".py",
  "mimetype": "text/x-python",
  "name": "python",
  "npconvert_exporter": "python",
  "pygments_lexer": "ipython3",
  "version": 3,
  "kernelspec": {
   "name": "python37464bitbasecondac669e08d4d2a4548bd70b293ab37b3f2",
   "display_name": "Python 3.7.4 64-bit ('base': conda)"
  }
 },
 "cells": [
  {
   "cell_type": "code",
   "execution_count": 1,
   "metadata": {},
   "outputs": [],
   "source": [
    "from dataset.load_dataset import load_click, load_order, load_sku, load_user\n",
    "from dataset.join_dataset import join_click_order\n",
    "from dataset.select_data import select_timerange\n",
    "from dataset.transform import to_sequence"
   ]
  },
  {
   "cell_type": "code",
   "execution_count": 3,
   "metadata": {},
   "outputs": [
    {
     "name": "stdout",
     "output_type": "stream",
     "text": "\n    select data within a time range\n    \n    >>> select_timerange(DataFrame, '2019-1-1', '2019-2-1')\n\n"
    }
   ],
   "source": [
    "print(select_timerange.__doc__)"
   ]
  },
  {
   "cell_type": "code",
   "execution_count": 4,
   "metadata": {},
   "outputs": [
    {
     "data": {
      "text/html": "<div>\n<style scoped>\n    .dataframe tbody tr th:only-of-type {\n        vertical-align: middle;\n    }\n\n    .dataframe tbody tr th {\n        vertical-align: top;\n    }\n\n    .dataframe thead th {\n        text-align: right;\n    }\n</style>\n<table border=\"1\" class=\"dataframe\">\n  <thead>\n    <tr style=\"text-align: right;\">\n      <th></th>\n      <th>user_ID</th>\n      <th>sku_ID</th>\n      <th>request_date</th>\n      <th>request_time</th>\n      <th>order_date</th>\n      <th>order_ID</th>\n      <th>if_order</th>\n    </tr>\n  </thead>\n  <tbody>\n    <tr>\n      <td>815930</td>\n      <td>-</td>\n      <td>e88f7a67c7</td>\n      <td>2018-02-28</td>\n      <td>2018-02-28 23:59:08</td>\n      <td>NaT</td>\n      <td>NaN</td>\n      <td>False</td>\n    </tr>\n    <tr>\n      <td>270065</td>\n      <td>-</td>\n      <td>b9f08a2a2a</td>\n      <td>2018-02-28</td>\n      <td>2018-02-28 23:59:15</td>\n      <td>NaT</td>\n      <td>NaN</td>\n      <td>False</td>\n    </tr>\n    <tr>\n      <td>899921</td>\n      <td>-</td>\n      <td>7f0ddbcdde</td>\n      <td>2018-02-28</td>\n      <td>2018-02-28 23:59:25</td>\n      <td>NaT</td>\n      <td>NaN</td>\n      <td>False</td>\n    </tr>\n    <tr>\n      <td>617224</td>\n      <td>-</td>\n      <td>1b3f5d4d21</td>\n      <td>2018-02-28</td>\n      <td>2018-02-28 23:59:32</td>\n      <td>NaT</td>\n      <td>NaN</td>\n      <td>False</td>\n    </tr>\n    <tr>\n      <td>77180</td>\n      <td>-</td>\n      <td>2e6929ecb9</td>\n      <td>2018-02-28</td>\n      <td>2018-02-28 23:59:37</td>\n      <td>NaT</td>\n      <td>NaN</td>\n      <td>False</td>\n    </tr>\n  </tbody>\n</table>\n</div>",
      "text/plain": "       user_ID      sku_ID request_date        request_time order_date  \\\n815930       -  e88f7a67c7   2018-02-28 2018-02-28 23:59:08        NaT   \n270065       -  b9f08a2a2a   2018-02-28 2018-02-28 23:59:15        NaT   \n899921       -  7f0ddbcdde   2018-02-28 2018-02-28 23:59:25        NaT   \n617224       -  1b3f5d4d21   2018-02-28 2018-02-28 23:59:32        NaT   \n77180        -  2e6929ecb9   2018-02-28 2018-02-28 23:59:37        NaT   \n\n       order_ID  if_order  \n815930      NaN     False  \n270065      NaN     False  \n899921      NaN     False  \n617224      NaN     False  \n77180       NaN     False  "
     },
     "execution_count": 4,
     "metadata": {},
     "output_type": "execute_result"
    }
   ],
   "source": [
    "df_click_order = join_click_order() # 获取click表格和order表格的join\n",
    "df_click_order.head()"
   ]
  },
  {
   "cell_type": "code",
   "execution_count": null,
   "metadata": {},
   "outputs": [],
   "source": [
    "df_sku = load_sku()"
   ]
  },
  {
   "cell_type": "code",
   "execution_count": null,
   "metadata": {},
   "outputs": [],
   "source": [
    "df_click_order_sku = df_click_order.merge(df_sku, left_on='sku_ID',\n",
    "                                                right_on = 'sku_ID')\n",
    "df_click_order_sku.head()"
   ]
  },
  {
   "cell_type": "code",
   "execution_count": 4,
   "metadata": {},
   "outputs": [
    {
     "name": "stderr",
     "output_type": "stream",
     "text": "100%|██████████| 1000000/1000000 [01:05<00:00, 15158.86it/s]\n['00006dfb70', ['fafcaac06c', 'fafcaac06c', 'fafcaac06c'], [Timestamp('2018-03-03 13:05:57'), Timestamp('2018-03-03 13:06:19'), Timestamp('2018-03-03 13:06:19')], [False, False, False]]\n"
    }
   ],
   "source": [
    " # 将df_click_order表格转为序列数据\n",
    "click_sequence = to_sequence(df_click_orderm, 1000000)\n",
    "print(click_sequence[10])\n",
    "\n",
    "# [用户id， [产品id序列], [点击时间序列], [是否购买序列]]"
   ]
  }
 ]
}